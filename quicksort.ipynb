{
 "cells": [
  {
   "cell_type": "markdown",
   "metadata": {},
   "source": [
    "# The QuickSort Algorithm:\n",
    "\n",
    "This algorithm provides the solution to the sorting problem. Hence, its input is an array of numbers (assumed here to be distinct) and its output is the sorted version of this array.\n",
    "\n",
    "Key Highlights of QuickSort:\n",
    "- succint and elegant code\n",
    "- O(nlogn) time \"on average\"\n",
    "- Works in place (algorithm requires only swaps and not copies of the arrays)\n",
    "- Only two recursions at each level, and the recursion is done after a partition step (this is reverse order of the MergeSort algorithm)\n",
    "- Running time of QuickSort depends on the choice of pivot; Randomize pivoting works well."
   ]
  },
  {
   "cell_type": "code",
   "execution_count": 1,
   "metadata": {
    "collapsed": true
   },
   "outputs": [],
   "source": [
    "import numpy as np\n",
    "import time"
   ]
  },
  {
   "cell_type": "markdown",
   "metadata": {},
   "source": [
    "## Partitioning Around a Pivot\n",
    "\n",
    "**Key idea:** is to partition the input array around a pivot element. \n",
    "\n",
    "Specifically, we aim to split up the array into 3 components, namely: i. everything less than the pivot, ii. the pivot itself, and iii. everything greater than the pivot."
   ]
  },
  {
   "cell_type": "code",
   "execution_count": 2,
   "metadata": {
    "collapsed": false
   },
   "outputs": [],
   "source": [
    "# in-place partitioning (partition as elements are revealed with repeated swaps)\n",
    "# runs in linear time O(n)\n",
    "def partition(A, l, r):\n",
    "    # pivot WLOG is considered to be the first element\n",
    "    p = A[l]\n",
    "    i = l + 1\n",
    "    for j in range(l+1,r+1):\n",
    "        if A[j] < p: # otherwise do nothing and increase pointer j\n",
    "            # swap A[i] with A[j]\n",
    "            A[i], A[j] = A[j], A[i]\n",
    "            i += 1\n",
    "    # finally swap A[i-1] with A[l] to place pivot in correct position\n",
    "    A[i-1], A[l] = A[l], A[i-1]\n",
    "    return i-1"
   ]
  },
  {
   "cell_type": "code",
   "execution_count": 3,
   "metadata": {
    "collapsed": false
   },
   "outputs": [
    {
     "name": "stdout",
     "output_type": "stream",
     "text": [
      "2\n",
      "[1, 2, 3, 5, 8, 4, 7, 6]\n"
     ]
    }
   ],
   "source": [
    "# Tim Roughgarden's example array\n",
    "foo = [3,8,2,5,1,4,7,6]\n",
    "print partition(foo,0,7)\n",
    "print foo"
   ]
  },
  {
   "cell_type": "code",
   "execution_count": 4,
   "metadata": {
    "collapsed": false
   },
   "outputs": [
    {
     "data": {
      "text/plain": [
       "[8, 7, 6, 2, 3, 10, 4, 1, 9, 5]"
      ]
     },
     "execution_count": 4,
     "metadata": {},
     "output_type": "execute_result"
    }
   ],
   "source": [
    "bar = list(np.random.permutation(10) + 1)\n",
    "bar"
   ]
  },
  {
   "cell_type": "code",
   "execution_count": 5,
   "metadata": {
    "collapsed": false
   },
   "outputs": [
    {
     "name": "stdout",
     "output_type": "stream",
     "text": [
      "7\n",
      "[5, 7, 6, 2, 3, 4, 1, 8, 9, 10]\n"
     ]
    }
   ],
   "source": [
    "# partition done in-place\n",
    "print partition(bar,0,9)\n",
    "print bar"
   ]
  },
  {
   "cell_type": "markdown",
   "metadata": {},
   "source": [
    "## Choosing a Good Pivot (Random Pivots)\n",
    "\n",
    "Choosing a random pivot results in an average running time of O(nlogn) for the QuickSort algorithm."
   ]
  },
  {
   "cell_type": "code",
   "execution_count": 6,
   "metadata": {
    "collapsed": false
   },
   "outputs": [],
   "source": [
    "def choosePivot(A,l=None,r=None):\n",
    "    \"\"\"\n",
    "    This function will choose a pivot for the considered\n",
    "    subset of A = [a_l,...,a_r]. It also does the \n",
    "    swap to put the pivot in the ell-th position. This is \n",
    "    required because the partition function assumes that\n",
    "    the pivot element is located in the first element of\n",
    "    the subset A.\n",
    "    \"\"\"\n",
    "    if l == None:\n",
    "        l = 0\n",
    "    if r == None:\n",
    "        r = len(A) - 1\n",
    "    p = np.random.randint(l,r+1, size = 1)[0]\n",
    "    # pre-process A now, so that the pivot is the first element of array \n",
    "    A[l],A[p] = A[p],A[l]\n",
    "    return p"
   ]
  },
  {
   "cell_type": "markdown",
   "metadata": {},
   "source": [
    "## The QuickSort Algorithm "
   ]
  },
  {
   "cell_type": "code",
   "execution_count": 7,
   "metadata": {
    "collapsed": true
   },
   "outputs": [],
   "source": [
    "# A basic QuickSort that creates copies L,R in intermediate steps\n",
    "def quickSort(A):\n",
    "    n = len(A)\n",
    "    if n <= 1: # less than one to handle the case if L and R are empty after the random partition\n",
    "        return A\n",
    "    else:\n",
    "        choosePivot(A)\n",
    "        ix = partition(A,0,n-1)\n",
    "        L = quickSort(A[:ix])\n",
    "        R = quickSort(A[ix+1:])\n",
    "        return L + [A[ix]] + R"
   ]
  },
  {
   "cell_type": "code",
   "execution_count": 8,
   "metadata": {
    "collapsed": false
   },
   "outputs": [],
   "source": [
    "# QuickSort algorithm done completely in place using repeated swaps implemented through recursions\n",
    "def quickSort_inplace(A,l=None,r=None):\n",
    "    \"\"\"\n",
    "    input: A = [a_l,...,a_r]\n",
    "    l and r are specified in the algorithm in recursive steps\n",
    "    so that the repeated swaps are done in place\n",
    "    \"\"\"\n",
    "    if r == None:\n",
    "        r = len(A)-1 # index of last element in A\n",
    "    if l == None:\n",
    "        l = 0 # index of first element in A\n",
    "    \n",
    "    n = r-l+1\n",
    "    if n <= 1: # less than one to handle the case if L and R are empty after the random partition\n",
    "        return A\n",
    "    else:\n",
    "        choosePivot(A,l,r)\n",
    "        ix = partition(A,l,r)\n",
    "        quickSort_inplace(A, l, ix-1)\n",
    "        quickSort_inplace(A, ix+1,r)"
   ]
  },
  {
   "cell_type": "code",
   "execution_count": 9,
   "metadata": {
    "collapsed": true
   },
   "outputs": [],
   "source": [
    "foo = [3,8,2,5,1,4,7,6]"
   ]
  },
  {
   "cell_type": "code",
   "execution_count": 10,
   "metadata": {
    "collapsed": false
   },
   "outputs": [
    {
     "name": "stdout",
     "output_type": "stream",
     "text": [
      "[1, 2, 3, 4, 5, 6, 7, 8]\n",
      "[1, 8, 2, 5, 3, 4, 7, 6]\n"
     ]
    }
   ],
   "source": [
    "# quickSort is not done in place\n",
    "print quickSort(foo)\n",
    "print foo # random pivot makes this not equivalent to original foo"
   ]
  },
  {
   "cell_type": "code",
   "execution_count": 11,
   "metadata": {
    "collapsed": false
   },
   "outputs": [
    {
     "name": "stdout",
     "output_type": "stream",
     "text": [
      "[1, 2, 3, 4, 5, 6, 7, 8]\n"
     ]
    }
   ],
   "source": [
    "# quickSort_inplace is done in place, using minimal memory\n",
    "quickSort_inplace(foo)\n",
    "print foo"
   ]
  },
  {
   "cell_type": "code",
   "execution_count": 12,
   "metadata": {
    "collapsed": false
   },
   "outputs": [
    {
     "data": {
      "text/plain": [
       "[7, 10, 8, 9, 1, 3, 4, 2, 6, 5]"
      ]
     },
     "execution_count": 12,
     "metadata": {},
     "output_type": "execute_result"
    }
   ],
   "source": [
    "bar = list(np.random.permutation(10) + 1)\n",
    "bar"
   ]
  },
  {
   "cell_type": "code",
   "execution_count": 13,
   "metadata": {
    "collapsed": false
   },
   "outputs": [
    {
     "data": {
      "text/plain": [
       "[1, 2, 8, 9, 10, 3, 4, 7, 6, 5]"
      ]
     },
     "execution_count": 13,
     "metadata": {},
     "output_type": "execute_result"
    }
   ],
   "source": [
    "quickSort(bar)\n",
    "bar"
   ]
  },
  {
   "cell_type": "markdown",
   "metadata": {},
   "source": [
    "## Timing QuickSort on arranging random permutations of lists [1..10^i], for i=0,1,2,...8 "
   ]
  },
  {
   "cell_type": "code",
   "execution_count": 14,
   "metadata": {
    "collapsed": true
   },
   "outputs": [],
   "source": [
    "import copy"
   ]
  },
  {
   "cell_type": "code",
   "execution_count": 15,
   "metadata": {
    "collapsed": false
   },
   "outputs": [
    {
     "data": {
      "text/plain": [
       "30.630911111831665"
      ]
     },
     "execution_count": 15,
     "metadata": {},
     "output_type": "execute_result"
    }
   ],
   "source": [
    "# creating a dicts of arrays to be sorted\n",
    "t0=time.time()\n",
    "permutations = {i:list(np.random.permutation(10**i)+1) for i in range(9)}\n",
    "t1=time.time()\n",
    "t1-t0"
   ]
  },
  {
   "cell_type": "code",
   "execution_count": 16,
   "metadata": {
    "collapsed": false
   },
   "outputs": [],
   "source": [
    "permutations_copy1 = {key:list[:] for key,list in permutations.items()}"
   ]
  },
  {
   "cell_type": "code",
   "execution_count": 26,
   "metadata": {
    "collapsed": false
   },
   "outputs": [],
   "source": [
    "permutations_copy2 = {key:list[:] for key,list in permutations.items()}"
   ]
  },
  {
   "cell_type": "code",
   "execution_count": 32,
   "metadata": {
    "collapsed": false
   },
   "outputs": [
    {
     "data": {
      "text/plain": [
       "{0: 3.0994415283203125e-06,\n",
       " 1: 0.00012087821960449219,\n",
       " 2: 0.0011141300201416016,\n",
       " 3: 0.007476091384887695,\n",
       " 4: 0.06836700439453125,\n",
       " 5: 0.8157410621643066,\n",
       " 6: 9.17273497581482,\n",
       " 7: 103.30035614967346,\n",
       " 8: 1248.3976650238037}"
      ]
     },
     "execution_count": 32,
     "metadata": {},
     "output_type": "execute_result"
    }
   ],
   "source": [
    "# testing QuickSort_inplace \n",
    "times = {}\n",
    "for i in range(9):\n",
    "    t0=time.time()\n",
    "    quickSort_inplace(permutations_copy1[i])\n",
    "    t1=time.time()\n",
    "    times[i] = t1-t0\n",
    "times"
   ]
  },
  {
   "cell_type": "code",
   "execution_count": 33,
   "metadata": {
    "collapsed": false
   },
   "outputs": [
    {
     "data": {
      "text/plain": [
       "{0: 1.811981201171875e-05,\n",
       " 1: 0.00010395050048828125,\n",
       " 2: 0.0011341571807861328,\n",
       " 3: 0.010333061218261719,\n",
       " 4: 0.08442115783691406,\n",
       " 5: 0.8688449859619141,\n",
       " 6: 10.609432935714722,\n",
       " 7: 129.17210793495178,\n",
       " 8: 1795.697459936142}"
      ]
     },
     "execution_count": 33,
     "metadata": {},
     "output_type": "execute_result"
    }
   ],
   "source": [
    "# testing \"basic\" QuickSort\n",
    "times = {}\n",
    "for i in range(9):\n",
    "    #bar = list(np.random.permutation(10**i) + 1)\n",
    "    t0=time.time()\n",
    "    quickSort(permutations_copy2[i])\n",
    "    t1=time.time()\n",
    "    times[i] = t1-t0\n",
    "times"
   ]
  },
  {
   "cell_type": "code",
   "execution_count": 34,
   "metadata": {
    "collapsed": false
   },
   "outputs": [
    {
     "data": {
      "text/plain": [
       "[1, 2, 3, 4, 5, 6, 7, 8, 9, 10]"
      ]
     },
     "execution_count": 34,
     "metadata": {},
     "output_type": "execute_result"
    }
   ],
   "source": [
    "# quickSort_inplace\n",
    "permutations_copy1[1]"
   ]
  },
  {
   "cell_type": "code",
   "execution_count": 35,
   "metadata": {
    "collapsed": false
   },
   "outputs": [
    {
     "data": {
      "text/plain": [
       "[1, 7, 6, 9, 10, 5, 3, 8, 4, 2]"
      ]
     },
     "execution_count": 35,
     "metadata": {},
     "output_type": "execute_result"
    }
   ],
   "source": [
    "# basic quickSort\n",
    "permutations_copy2[1]"
   ]
  },
  {
   "cell_type": "code",
   "execution_count": 390,
   "metadata": {
    "collapsed": true
   },
   "outputs": [],
   "source": [
    "alexa = [64,4,2,16,1024,128,256,8,512,32,4096]"
   ]
  },
  {
   "cell_type": "code",
   "execution_count": 391,
   "metadata": {
    "collapsed": false
   },
   "outputs": [
    {
     "data": {
      "text/plain": [
       "[2, 4, 8, 16, 32, 64, 128, 256, 512, 1024, 4096]"
      ]
     },
     "execution_count": 391,
     "metadata": {},
     "output_type": "execute_result"
    }
   ],
   "source": [
    "quickSort_inplace(alexa)\n",
    "alexa"
   ]
  }
 ],
 "metadata": {
  "kernelspec": {
   "display_name": "Python 2",
   "language": "python",
   "name": "python2"
  },
  "language_info": {
   "codemirror_mode": {
    "name": "ipython",
    "version": 2
   },
   "file_extension": ".py",
   "mimetype": "text/x-python",
   "name": "python",
   "nbconvert_exporter": "python",
   "pygments_lexer": "ipython2",
   "version": "2.7.11"
  }
 },
 "nbformat": 4,
 "nbformat_minor": 0
}
