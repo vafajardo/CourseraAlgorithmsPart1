{
 "cells": [
  {
   "cell_type": "markdown",
   "metadata": {},
   "source": [
    "# The QuickSort Algorithm:\n",
    "\n",
    "This algorithm provides the solution to the sorting problem. Hence, its input is an array of numbers (assumed here to be distinct) and its output is the sorted version of this array.\n",
    "\n",
    "Key Highlights of QuickSort:\n",
    "- O(nlogn) time \"on average\"\n",
    "- Works in place (algorithm requires only swaps and not copies of the arrays)\n",
    "- Only two recursions at each level, and the recursion is done after a partition step (this is reverse order of the MergeSort algorithm)\n",
    "- Running time of QuickSort depends on the choice of pivot; Randomize pivoting works well."
   ]
  },
  {
   "cell_type": "code",
   "execution_count": 62,
   "metadata": {
    "collapsed": true
   },
   "outputs": [],
   "source": [
    "import numpy as np\n",
    "import time"
   ]
  },
  {
   "cell_type": "markdown",
   "metadata": {},
   "source": [
    "## Partitioning Around a Pivot\n",
    "\n",
    "**Key idea:** is to partition the input array around a pivot element. \n",
    "\n",
    "Specifically, we aim to split up the array into 3 components, namely: i. everything less than the pivot, ii. the pivot itself, and iii. everything greater than the pivot."
   ]
  },
  {
   "cell_type": "code",
   "execution_count": 48,
   "metadata": {
    "collapsed": true
   },
   "outputs": [],
   "source": [
    "# in-place partitioning (partition as elements are revealed with repeated swaps)\n",
    "# runs in linear time O(n)\n",
    "def partition(A, l, r):\n",
    "    # pivot WLOG is considered to be the first element\n",
    "    p = A[l]\n",
    "    i = l + 1\n",
    "    for j in range(l+1,r+1):\n",
    "        if A[j] < p: # otherwise do nothing and increase pointer j\n",
    "            # swap A[i] with A[j]\n",
    "            A[i], A[j] = A[j], A[i]\n",
    "            i += 1\n",
    "    # finally swap A[i-1] with A[l] to place pivot in correct position\n",
    "    A[i-1], A[l] = A[l], A[i-1]\n",
    "    return A[:i-1],[A[i-1]],A[i:]"
   ]
  },
  {
   "cell_type": "code",
   "execution_count": 49,
   "metadata": {
    "collapsed": false
   },
   "outputs": [
    {
     "name": "stdout",
     "output_type": "stream",
     "text": [
      "([1, 2], [3], [5, 8, 4, 7, 6])\n",
      "[1, 2, 3, 5, 8, 4, 7, 6]\n"
     ]
    }
   ],
   "source": [
    "# Tim Roughgarden's example array\n",
    "foo = [3,8,2,5,1,4,7,6]\n",
    "print partition(foo,0,7)\n",
    "print foo"
   ]
  },
  {
   "cell_type": "code",
   "execution_count": 50,
   "metadata": {
    "collapsed": false
   },
   "outputs": [
    {
     "data": {
      "text/plain": [
       "[4, 8, 5, 7, 10, 1, 3, 2, 6, 9]"
      ]
     },
     "execution_count": 50,
     "metadata": {},
     "output_type": "execute_result"
    }
   ],
   "source": [
    "bar = list(np.random.permutation(10) + 1)\n",
    "bar"
   ]
  },
  {
   "cell_type": "code",
   "execution_count": 51,
   "metadata": {
    "collapsed": false
   },
   "outputs": [
    {
     "name": "stdout",
     "output_type": "stream",
     "text": [
      "([2, 1, 3], [4], [10, 8, 5, 7, 6, 9])\n",
      "[2, 1, 3, 4, 10, 8, 5, 7, 6, 9]\n"
     ]
    }
   ],
   "source": [
    "# partition done in-place\n",
    "print partition(bar,0,9)\n",
    "print bar"
   ]
  },
  {
   "cell_type": "markdown",
   "metadata": {},
   "source": [
    "## Choosing a Good Pivot (Random Pivots)\n",
    "\n",
    "Choosing a random pivot results in an average running time of O(nlogn) for the QuickSort algorithm."
   ]
  },
  {
   "cell_type": "code",
   "execution_count": 52,
   "metadata": {
    "collapsed": true
   },
   "outputs": [],
   "source": [
    "def choosePivot(A):\n",
    "    p = np.random.randint(0,len(A), size = 1)[0]\n",
    "    # pre-process A now, so that the pivot is the first element of array \n",
    "    A[0],A[p] = A[p],A[0]"
   ]
  },
  {
   "cell_type": "markdown",
   "metadata": {},
   "source": [
    "## The QuickSort Algorithm "
   ]
  },
  {
   "cell_type": "code",
   "execution_count": 58,
   "metadata": {
    "collapsed": false
   },
   "outputs": [],
   "source": [
    "def quickSort(A):\n",
    "    n = len(A)\n",
    "    if n < 1: # less than one to handle the case if L and R are empty after the random partition\n",
    "        return A\n",
    "    else:\n",
    "        choosePivot(A)\n",
    "        L, p, R = partition(A, 0, n-1) # index of pivot\n",
    "        return quickSort(L) + p + quickSort(R)   "
   ]
  },
  {
   "cell_type": "code",
   "execution_count": 54,
   "metadata": {
    "collapsed": false
   },
   "outputs": [
    {
     "data": {
      "text/plain": [
       "[1, 2, 3, 4, 5, 6, 7, 8]"
      ]
     },
     "execution_count": 54,
     "metadata": {},
     "output_type": "execute_result"
    }
   ],
   "source": [
    "foo = [3,8,2,5,1,4,7,6]\n",
    "quickSort(foo)"
   ]
  },
  {
   "cell_type": "code",
   "execution_count": 55,
   "metadata": {
    "collapsed": false
   },
   "outputs": [
    {
     "data": {
      "text/plain": [
       "[4, 2, 3, 1, 5, 8, 7, 6]"
      ]
     },
     "execution_count": 55,
     "metadata": {},
     "output_type": "execute_result"
    }
   ],
   "source": [
    "# partition is done in place but not the sorting\n",
    "foo"
   ]
  },
  {
   "cell_type": "markdown",
   "metadata": {},
   "source": [
    "## Timing QuickSort on arranging random permutations of lists [1..10^i], for i=0,1,2,...7 "
   ]
  },
  {
   "cell_type": "code",
   "execution_count": 75,
   "metadata": {
    "collapsed": false
   },
   "outputs": [
    {
     "data": {
      "text/plain": [
       "{0: 5.602836608886719e-05,\n",
       " 1: 0.0001811981201171875,\n",
       " 2: 0.0013210773468017578,\n",
       " 3: 0.011868953704833984,\n",
       " 4: 0.09549808502197266,\n",
       " 5: 1.0549798011779785,\n",
       " 6: 12.220669984817505,\n",
       " 7: 146.7069890499115}"
      ]
     },
     "execution_count": 75,
     "metadata": {},
     "output_type": "execute_result"
    }
   ],
   "source": [
    "times = {}\n",
    "for i in range(8):\n",
    "    bar = list(np.random.permutation(10**i) + 1)\n",
    "    t0=time.time()\n",
    "    quickSort(bar)\n",
    "    t1=time.time()\n",
    "    times[i] = t1-t0\n",
    "times"
   ]
  },
  {
   "cell_type": "code",
   "execution_count": 74,
   "metadata": {
    "collapsed": false
   },
   "outputs": [
    {
     "data": {
      "text/plain": [
       "10000000"
      ]
     },
     "execution_count": 74,
     "metadata": {},
     "output_type": "execute_result"
    }
   ],
   "source": [
    "10**7"
   ]
  },
  {
   "cell_type": "code",
   "execution_count": null,
   "metadata": {
    "collapsed": true
   },
   "outputs": [],
   "source": []
  }
 ],
 "metadata": {
  "kernelspec": {
   "display_name": "Python 2",
   "language": "python",
   "name": "python2"
  },
  "language_info": {
   "codemirror_mode": {
    "name": "ipython",
    "version": 2
   },
   "file_extension": ".py",
   "mimetype": "text/x-python",
   "name": "python",
   "nbconvert_exporter": "python",
   "pygments_lexer": "ipython2",
   "version": "2.7.11"
  }
 },
 "nbformat": 4,
 "nbformat_minor": 0
}
