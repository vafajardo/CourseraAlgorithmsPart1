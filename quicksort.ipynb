{
 "cells": [
  {
   "cell_type": "markdown",
   "metadata": {},
   "source": [
    "# The QuickSort Algorithm:\n",
    "\n",
    "This algorithm provides the solution to the sorting problem. Hence, its input is an array of numbers (assumed here to be distinct) and its output is the sorted version of this array.\n",
    "\n",
    "Key Highlights of QuickSort:\n",
    "- succint and elegant code\n",
    "- O(nlogn) time \"on average\"\n",
    "- Works in place (algorithm requires only swaps and not copies of the arrays)\n",
    "- Only two recursions at each level, and the recursion is done after a partition step (this is reverse order of the MergeSort algorithm)\n",
    "- Running time of QuickSort depends on the choice of pivot; Randomize pivoting works well."
   ]
  },
  {
   "cell_type": "code",
   "execution_count": 62,
   "metadata": {
    "collapsed": true
   },
   "outputs": [],
   "source": [
    "import numpy as np\n",
    "import time"
   ]
  },
  {
   "cell_type": "markdown",
   "metadata": {},
   "source": [
    "## Partitioning Around a Pivot\n",
    "\n",
    "**Key idea:** is to partition the input array around a pivot element. \n",
    "\n",
    "Specifically, we aim to split up the array into 3 components, namely: i. everything less than the pivot, ii. the pivot itself, and iii. everything greater than the pivot."
   ]
  },
  {
   "cell_type": "code",
   "execution_count": 103,
   "metadata": {
    "collapsed": false
   },
   "outputs": [],
   "source": [
    "# in-place partitioning (partition as elements are revealed with repeated swaps)\n",
    "# runs in linear time O(n)\n",
    "def partition(A, l, r):\n",
    "    # pivot WLOG is considered to be the first element\n",
    "    p = A[l]\n",
    "    i = l + 1\n",
    "    for j in range(l+1,r+1):\n",
    "        if A[j] < p: # otherwise do nothing and increase pointer j\n",
    "            # swap A[i] with A[j]\n",
    "            A[i], A[j] = A[j], A[i]\n",
    "            i += 1\n",
    "    # finally swap A[i-1] with A[l] to place pivot in correct position\n",
    "    A[i-1], A[l] = A[l], A[i-1]\n",
    "    return i-1"
   ]
  },
  {
   "cell_type": "code",
   "execution_count": 80,
   "metadata": {
    "collapsed": false
   },
   "outputs": [
    {
     "name": "stdout",
     "output_type": "stream",
     "text": [
      "2\n",
      "[1, 2, 3, 5, 8, 4, 7, 6]\n"
     ]
    }
   ],
   "source": [
    "# Tim Roughgarden's example array\n",
    "foo = [3,8,2,5,1,4,7,6]\n",
    "print partition(foo,0,7)\n",
    "print foo"
   ]
  },
  {
   "cell_type": "code",
   "execution_count": 82,
   "metadata": {
    "collapsed": false
   },
   "outputs": [
    {
     "data": {
      "text/plain": [
       "[4, 9, 3, 1, 10, 8, 6, 5, 2, 7]"
      ]
     },
     "execution_count": 82,
     "metadata": {},
     "output_type": "execute_result"
    }
   ],
   "source": [
    "bar = list(np.random.permutation(10) + 1)\n",
    "bar"
   ]
  },
  {
   "cell_type": "code",
   "execution_count": 83,
   "metadata": {
    "collapsed": false
   },
   "outputs": [
    {
     "name": "stdout",
     "output_type": "stream",
     "text": [
      "3\n",
      "[2, 3, 1, 4, 10, 8, 6, 5, 9, 7]\n"
     ]
    }
   ],
   "source": [
    "# partition done in-place\n",
    "print partition(bar,0,9)\n",
    "print bar"
   ]
  },
  {
   "cell_type": "markdown",
   "metadata": {},
   "source": [
    "## Choosing a Good Pivot (Random Pivots)\n",
    "\n",
    "Choosing a random pivot results in an average running time of O(nlogn) for the QuickSort algorithm."
   ]
  },
  {
   "cell_type": "code",
   "execution_count": 364,
   "metadata": {
    "collapsed": false
   },
   "outputs": [],
   "source": [
    "def choosePivot(A,l=None,r=None):\n",
    "    \"\"\"\n",
    "    This function will choose a pivot for the considered\n",
    "    subset of A = [a_l,...,a_r]. It also does the \n",
    "    swap to put the pivot in the ell-th position. This is \n",
    "    required because the parition function assumes that\n",
    "    the pivot element is located in the first element of\n",
    "    the subset A.\n",
    "    \"\"\"\n",
    "    if l == None:\n",
    "        l = 0\n",
    "    if r == None:\n",
    "        r = len(A) - 1\n",
    "    p = np.random.randint(l,r+1, size = 1)[0]\n",
    "    # pre-process A now, so that the pivot is the first element of array \n",
    "    A[l],A[p] = A[p],A[l]\n",
    "    return p"
   ]
  },
  {
   "cell_type": "markdown",
   "metadata": {},
   "source": [
    "## The QuickSort Algorithm "
   ]
  },
  {
   "cell_type": "code",
   "execution_count": 365,
   "metadata": {
    "collapsed": true
   },
   "outputs": [],
   "source": [
    "# A basic QuickSort that creates copies L,R in intermediate steps\n",
    "def quickSort(A):\n",
    "    n = len(A)\n",
    "    if n <= 1: # less than one to handle the case if L and R are empty after the random partition\n",
    "        return A\n",
    "    else:\n",
    "        choosePivot(A)\n",
    "        ix = partition(A,0,n-1)\n",
    "        L = quickSort(A[:ix])\n",
    "        R = quickSort(A[ix+1:])\n",
    "        return L + [A[ix]] + R"
   ]
  },
  {
   "cell_type": "code",
   "execution_count": 376,
   "metadata": {
    "collapsed": false
   },
   "outputs": [],
   "source": [
    "# QuickSort algorithm done completely in place using repeated swaps implemented through recursions\n",
    "def quickSort_inplace(A,l=None,r=None):\n",
    "    \"\"\"\n",
    "    input: A = [a_l,...,a_r]\n",
    "    l and r are specified in the algorithm in recursive steps\n",
    "    so that the repeated swaps are done in place\n",
    "    \"\"\"\n",
    "    if r == None:\n",
    "        r = len(A)-1 # index of last element in A\n",
    "    if l == None:\n",
    "        l = 0 # index of first element in A\n",
    "    \n",
    "    n = r-l+1\n",
    "    if n <= 1: # less than one to handle the case if L and R are empty after the random partition\n",
    "        return A\n",
    "    else:\n",
    "        choosePivot(A,l,r)\n",
    "        ix = partition(A,l,r)\n",
    "        quickSort_inplace(A, l, ix-1)\n",
    "        quickSort_inplace(A, ix+1,r)"
   ]
  },
  {
   "cell_type": "code",
   "execution_count": 379,
   "metadata": {
    "collapsed": true
   },
   "outputs": [],
   "source": [
    "foo = [3,8,2,5,1,4,7,6]"
   ]
  },
  {
   "cell_type": "code",
   "execution_count": 382,
   "metadata": {
    "collapsed": false
   },
   "outputs": [
    {
     "name": "stdout",
     "output_type": "stream",
     "text": [
      "[1, 2, 3, 4, 5, 6, 7, 8]\n",
      "[4, 3, 2, 5, 1, 6, 7, 8]\n"
     ]
    }
   ],
   "source": [
    "# quickSort is not done in place\n",
    "print quickSort(foo)\n",
    "print foo # random pivot makes this not equivalent to original foo"
   ]
  },
  {
   "cell_type": "code",
   "execution_count": 383,
   "metadata": {
    "collapsed": false
   },
   "outputs": [
    {
     "name": "stdout",
     "output_type": "stream",
     "text": [
      "[1, 2, 3, 4, 5, 6, 7, 8]\n"
     ]
    }
   ],
   "source": [
    "# quickSort_inplace is done in place, using minimal memory\n",
    "quickSort_inplace(foo)\n",
    "print foo"
   ]
  },
  {
   "cell_type": "code",
   "execution_count": 384,
   "metadata": {
    "collapsed": false
   },
   "outputs": [
    {
     "data": {
      "text/plain": [
       "[4, 3, 9, 8, 6, 10, 7, 2, 5, 1]"
      ]
     },
     "execution_count": 384,
     "metadata": {},
     "output_type": "execute_result"
    }
   ],
   "source": [
    "bar = list(np.random.permutation(10) + 1)\n",
    "bar"
   ]
  },
  {
   "cell_type": "code",
   "execution_count": 385,
   "metadata": {
    "collapsed": false
   },
   "outputs": [
    {
     "data": {
      "text/plain": [
       "[1, 3, 9, 8, 6, 10, 7, 2, 5, 4]"
      ]
     },
     "execution_count": 385,
     "metadata": {},
     "output_type": "execute_result"
    }
   ],
   "source": [
    "quickSort(bar)\n",
    "bar"
   ]
  },
  {
   "cell_type": "markdown",
   "metadata": {},
   "source": [
    "## Timing QuickSort on arranging random permutations of lists [1..10^i], for i=0,1,2,...7 "
   ]
  },
  {
   "cell_type": "code",
   "execution_count": 395,
   "metadata": {
    "collapsed": false
   },
   "outputs": [
    {
     "data": {
      "text/plain": [
       "32.85656809806824"
      ]
     },
     "execution_count": 395,
     "metadata": {},
     "output_type": "execute_result"
    }
   ],
   "source": [
    "# creating a dicts of arrays to be sorted\n",
    "t0=time.time()\n",
    "permutations = {i:list(np.random.permutation(10**i)+1) for i in range(9)}\n",
    "t1=time.time()\n",
    "t1-t0"
   ]
  },
  {
   "cell_type": "code",
   "execution_count": 396,
   "metadata": {
    "collapsed": false
   },
   "outputs": [
    {
     "data": {
      "text/plain": [
       "{0: 4.0531158447265625e-06,\n",
       " 1: 0.0001289844512939453,\n",
       " 2: 0.0011332035064697266,\n",
       " 3: 0.010092020034790039,\n",
       " 4: 0.07608795166015625,\n",
       " 5: 0.788701057434082,\n",
       " 6: 9.452018022537231,\n",
       " 7: 110.83687901496887,\n",
       " 8: 1329.2555198669434}"
      ]
     },
     "execution_count": 396,
     "metadata": {},
     "output_type": "execute_result"
    }
   ],
   "source": [
    "# testing QuickSort_inplace \n",
    "times = {}\n",
    "for i in range(9):\n",
    "    t0=time.time()\n",
    "    quickSort_inplace(permutations[i])\n",
    "    t1=time.time()\n",
    "    times[i] = t1-t0\n",
    "times"
   ]
  },
  {
   "cell_type": "code",
   "execution_count": 397,
   "metadata": {
    "collapsed": false
   },
   "outputs": [
    {
     "data": {
      "text/plain": [
       "{0: 3.0994415283203125e-06,\n",
       " 1: 0.00011396408081054688,\n",
       " 2: 0.0011851787567138672,\n",
       " 3: 0.011287927627563477,\n",
       " 4: 0.09310102462768555,\n",
       " 5: 0.8979568481445312,\n",
       " 6: 11.16263484954834,\n",
       " 7: 131.09028816223145,\n",
       " 8: 1838.417993068695}"
      ]
     },
     "execution_count": 397,
     "metadata": {},
     "output_type": "execute_result"
    }
   ],
   "source": [
    "# testing \"basic\" QuickSort\n",
    "times = {}\n",
    "for i in range(9):\n",
    "    #bar = list(np.random.permutation(10**i) + 1)\n",
    "    t0=time.time()\n",
    "    quickSort(permutations[i])\n",
    "    t1=time.time()\n",
    "    times[i] = t1-t0\n",
    "times"
   ]
  },
  {
   "cell_type": "code",
   "execution_count": 390,
   "metadata": {
    "collapsed": true
   },
   "outputs": [],
   "source": [
    "alexa = [64,4,2,16,1024,128,256,8,512,32,4096]"
   ]
  },
  {
   "cell_type": "code",
   "execution_count": 391,
   "metadata": {
    "collapsed": false
   },
   "outputs": [
    {
     "data": {
      "text/plain": [
       "[2, 4, 8, 16, 32, 64, 128, 256, 512, 1024, 4096]"
      ]
     },
     "execution_count": 391,
     "metadata": {},
     "output_type": "execute_result"
    }
   ],
   "source": [
    "quickSort_inplace(alexa)\n",
    "alexa"
   ]
  }
 ],
 "metadata": {
  "kernelspec": {
   "display_name": "Python 2",
   "language": "python",
   "name": "python2"
  },
  "language_info": {
   "codemirror_mode": {
    "name": "ipython",
    "version": 2
   },
   "file_extension": ".py",
   "mimetype": "text/x-python",
   "name": "python",
   "nbconvert_exporter": "python",
   "pygments_lexer": "ipython2",
   "version": "2.7.11"
  }
 },
 "nbformat": 4,
 "nbformat_minor": 0
}
