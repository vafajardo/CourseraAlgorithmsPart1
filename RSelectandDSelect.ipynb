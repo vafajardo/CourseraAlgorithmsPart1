{
 "cells": [
  {
   "cell_type": "markdown",
   "metadata": {},
   "source": [
    "# Comparing RandomSelect (RSelect) with DeterministicSelect (DSelect)\n",
    "\n",
    "**Statement of Problem:**\n",
    "- Input array `A` with `n` distinct (for simplicity) numbers and a number `i` in {1,2,...,n}.\n",
    "- Output the `i`-th order statistic of the array `A`."
   ]
  },
  {
   "cell_type": "markdown",
   "metadata": {},
   "source": [
    "## RSelect\n",
    "\n",
    "Like the quicksort algorithm, the RSelect algorithm works in-place (no copies of any arrays are made). Furthermore, the workhorse of the RSelect algorithm is also the partition procedure which was introduced for quicksort. As partition utilizes a random selection of a \"good pivot\", the average running time of quicksort was shown to be O(nlogn). Similarly, we can show that RSelect runs, on average, in linear time (i.e., O(n)). *The fact that it runs in linear time also implies that the Selection problem is an easier problem then the Sorting problem (i.e., the best we can do there is a running time of O(nlogn).*"
   ]
  },
  {
   "cell_type": "code",
   "execution_count": 1,
   "metadata": {
    "collapsed": true
   },
   "outputs": [],
   "source": [
    "def partition(A, l, r):\n",
    "    # pivot WLOG is considered to be the first element\n",
    "    p = A[l]\n",
    "    i = l + 1\n",
    "    for j in range(l+1,r+1):\n",
    "        if A[j] < p: # otherwise do nothing and increase pointer j\n",
    "            # swap A[i] with A[j]\n",
    "            A[i], A[j] = A[j], A[i]\n",
    "            i += 1\n",
    "    # finally swap A[i-1] with A[l] to place pivot in correct position\n",
    "    A[i-1], A[l] = A[l], A[i-1]\n",
    "    return i-1 # returns index of the pivot"
   ]
  },
  {
   "cell_type": "code",
   "execution_count": 2,
   "metadata": {
    "collapsed": true
   },
   "outputs": [],
   "source": [
    "def choosePivot(A,l=None,r=None):\n",
    "    \"\"\"\n",
    "    This function will choose a pivot for the considered\n",
    "    subset of A = [a_l,...,a_r]. It also does the \n",
    "    swap to put the pivot in the ell-th position. This is \n",
    "    required because the parition function assumes that\n",
    "    the pivot element is located in the first element of\n",
    "    the subset A.\n",
    "    \"\"\"\n",
    "    if l == None:\n",
    "        l = 0\n",
    "    if r == None:\n",
    "        r = len(A) - 1\n",
    "    p = np.random.randint(l,r+1, size = 1)[0]\n",
    "    # pre-process A now, so that the pivot is the first element of array \n",
    "    A[l],A[p] = A[p],A[l]\n",
    "    return p"
   ]
  },
  {
   "cell_type": "markdown",
   "metadata": {},
   "source": [
    "With the partition and choosePivot functions from the Quicksort algorithm, we are now ready to present the RSelect algorithm."
   ]
  },
  {
   "cell_type": "code",
   "execution_count": 134,
   "metadata": {
    "collapsed": false
   },
   "outputs": [],
   "source": [
    "def RSelect(A,i, l=None, r=None):\n",
    "    \"\"\"\n",
    "    Input array=A, orderstat=i, A=[a_l,...,a_r] where l,r take values in (0,1,...,len(A)-1)\n",
    "    Swaps are done in place via paritition and choosePivot functions\n",
    "    \"\"\"\n",
    "    if r == None:\n",
    "        r = len(A)-1 # index of last element in A\n",
    "    if l == None:\n",
    "        l = 0 # index of first element in A\n",
    "    \n",
    "    n = r-l+1\n",
    "    if n == 1:\n",
    "        return A[l] \n",
    "        \"\"\"\n",
    "        because we are swapping in place, \n",
    "        the median will end up in ell-th position \n",
    "        when recursions reduce down to base case\n",
    "        \"\"\"\n",
    "    else:\n",
    "        p = choosePivot(A,l,r)\n",
    "        ix = partition(A,l,r) # gives the index of the pivot after partition\n",
    "        # A[l:r] = [a_l,...a_ix,...a_r] \n",
    "        j = ix - l + 1 # the pivot is actually the j-th order statistic of the subarray A[l:r] where j=ix-l+1 \n",
    "        #print 'i:',i,'j:',j, 'ix:',ix, A[l:r+1]\n",
    "        if j == i:\n",
    "            return A[ix]\n",
    "        elif j > i:\n",
    "            return RSelect(A,i,l,ix-1)\n",
    "        else:\n",
    "            return RSelect(A,i-j,ix+1,r)    "
   ]
  },
  {
   "cell_type": "code",
   "execution_count": 113,
   "metadata": {
    "collapsed": true
   },
   "outputs": [],
   "source": [
    "import numpy as np"
   ]
  },
  {
   "cell_type": "code",
   "execution_count": 120,
   "metadata": {
    "collapsed": true
   },
   "outputs": [],
   "source": [
    "A = list(np.random.permutation(10)+1)"
   ]
  },
  {
   "cell_type": "code",
   "execution_count": 121,
   "metadata": {
    "collapsed": false
   },
   "outputs": [
    {
     "data": {
      "text/plain": [
       "[3, 7, 9, 6, 5, 4, 2, 8, 1, 10]"
      ]
     },
     "execution_count": 121,
     "metadata": {},
     "output_type": "execute_result"
    }
   ],
   "source": [
    "A"
   ]
  },
  {
   "cell_type": "code",
   "execution_count": 122,
   "metadata": {
    "collapsed": false
   },
   "outputs": [
    {
     "data": {
      "text/plain": [
       "3"
      ]
     },
     "execution_count": 122,
     "metadata": {},
     "output_type": "execute_result"
    }
   ],
   "source": [
    "RSelect(A,3)"
   ]
  },
  {
   "cell_type": "code",
   "execution_count": 123,
   "metadata": {
    "collapsed": false
   },
   "outputs": [
    {
     "data": {
      "text/plain": [
       "[2, 1, 3, 5, 4, 6, 7, 8, 9, 10]"
      ]
     },
     "execution_count": 123,
     "metadata": {},
     "output_type": "execute_result"
    }
   ],
   "source": [
    "# done in place\n",
    "A"
   ]
  },
  {
   "cell_type": "code",
   "execution_count": 124,
   "metadata": {
    "collapsed": false
   },
   "outputs": [
    {
     "data": {
      "text/plain": [
       "9"
      ]
     },
     "execution_count": 124,
     "metadata": {},
     "output_type": "execute_result"
    }
   ],
   "source": [
    "RSelect(A,9)"
   ]
  },
  {
   "cell_type": "code",
   "execution_count": 125,
   "metadata": {
    "collapsed": false
   },
   "outputs": [
    {
     "data": {
      "text/plain": [
       "[2, 1, 3, 5, 4, 6, 7, 8, 9, 10]"
      ]
     },
     "execution_count": 125,
     "metadata": {},
     "output_type": "execute_result"
    }
   ],
   "source": [
    "A"
   ]
  },
  {
   "cell_type": "code",
   "execution_count": 131,
   "metadata": {
    "collapsed": true
   },
   "outputs": [],
   "source": [
    "A = [123,456,789,101,121,131,141]"
   ]
  },
  {
   "cell_type": "code",
   "execution_count": 132,
   "metadata": {
    "collapsed": false
   },
   "outputs": [
    {
     "data": {
      "text/plain": [
       "123"
      ]
     },
     "execution_count": 132,
     "metadata": {},
     "output_type": "execute_result"
    }
   ],
   "source": [
    "RSelect(A,3)"
   ]
  },
  {
   "cell_type": "code",
   "execution_count": 133,
   "metadata": {
    "collapsed": false
   },
   "outputs": [
    {
     "data": {
      "text/plain": [
       "[101, 121, 123, 131, 789, 456, 141]"
      ]
     },
     "execution_count": 133,
     "metadata": {},
     "output_type": "execute_result"
    }
   ],
   "source": [
    "A"
   ]
  },
  {
   "cell_type": "markdown",
   "metadata": {},
   "source": [
    "Note that RSelect continues to recursively call itself until either the randomly chosen pivot is equal to the j-th order statistic of A[l:r] or the problem reduces down to the base case."
   ]
  },
  {
   "cell_type": "markdown",
   "metadata": {},
   "source": [
    "## DSelect "
   ]
  },
  {
   "cell_type": "code",
   "execution_count": null,
   "metadata": {
    "collapsed": true
   },
   "outputs": [],
   "source": []
  }
 ],
 "metadata": {
  "kernelspec": {
   "display_name": "Python 2",
   "language": "python",
   "name": "python2"
  },
  "language_info": {
   "codemirror_mode": {
    "name": "ipython",
    "version": 2
   },
   "file_extension": ".py",
   "mimetype": "text/x-python",
   "name": "python",
   "nbconvert_exporter": "python",
   "pygments_lexer": "ipython2",
   "version": "2.7.11"
  }
 },
 "nbformat": 4,
 "nbformat_minor": 0
}
