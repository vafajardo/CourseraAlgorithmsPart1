{
 "cells": [
  {
   "cell_type": "markdown",
   "metadata": {},
   "source": [
    "# Comparing RandomSelect (RSelect) with DeterministicSelect (DSelect)\n",
    "\n",
    "**Statement of Problem:**\n",
    "- Input array `A` with `n` distinct (for simplicity) numbers and a number `i` in {1,2,...,n}.\n",
    "- Output the `i`-th order statistic of the array `A`."
   ]
  },
  {
   "cell_type": "markdown",
   "metadata": {},
   "source": [
    "## RSelect\n",
    "\n",
    "Like the quicksort algorithm, the RSelect algorithm works in-place (no copies of any arrays are made). Furthermore, the workhorse of the RSelect algorithm is also the partition procedure which was introduced for quicksort. As partition utilizes a random selection of a \"good pivot\", the average running time of quicksort was shown to be O(nlogn). Similarly, we can show that RSelect runs, on average, in linear time (i.e., O(n)). *The fact that it runs in linear time also implies that the Selection problem is an easier problem then the Sorting problem (i.e., the best we can do there is a running time of O(nlogn).*"
   ]
  },
  {
   "cell_type": "code",
   "execution_count": 210,
   "metadata": {
    "collapsed": true
   },
   "outputs": [],
   "source": [
    "def partition(A, l=None, r=None):\n",
    "    \"\"\"\n",
    "    input array is A[a_l,...,a_r] where a_l is the pivot\n",
    "    \"\"\"\n",
    "    if l == None:\n",
    "        l = 0\n",
    "    if r == None:\n",
    "        r = len(A)-1\n",
    "    # pivot WLOG is considered to be the first element\n",
    "    p = A[l]\n",
    "    i = l + 1\n",
    "    for j in range(l+1,r+1):\n",
    "        if A[j] < p: # otherwise do nothing and increase pointer j\n",
    "            # swap A[i] with A[j]\n",
    "            A[i], A[j] = A[j], A[i]\n",
    "            i += 1\n",
    "    # finally swap A[i-1] with A[l] to place pivot in correct position\n",
    "    A[i-1], A[l] = A[l], A[i-1]\n",
    "    return i-1 # returns index of the pivot"
   ]
  },
  {
   "cell_type": "code",
   "execution_count": 211,
   "metadata": {
    "collapsed": true
   },
   "outputs": [],
   "source": [
    "def choosePivot(A,l=None,r=None):\n",
    "    \"\"\"\n",
    "    This function will choose a pivot for the considered\n",
    "    subset of A = [a_l,...,a_r]. It also does the \n",
    "    swap to put the pivot in the ell-th position. This is \n",
    "    required because the parition function assumes that\n",
    "    the pivot element is located in the first element of\n",
    "    the subset A.\n",
    "    \"\"\"\n",
    "    if l == None:\n",
    "        l = 0\n",
    "    if r == None:\n",
    "        r = len(A) - 1\n",
    "    p = np.random.randint(l,r+1, size = 1)[0]\n",
    "    # pre-process A now, so that the pivot is the first element of array \n",
    "    A[l],A[p] = A[p],A[l]\n",
    "    return p"
   ]
  },
  {
   "cell_type": "markdown",
   "metadata": {},
   "source": [
    "With the partition and choosePivot functions from the Quicksort algorithm, we are now ready to present the RSelect algorithm."
   ]
  },
  {
   "cell_type": "code",
   "execution_count": 212,
   "metadata": {
    "collapsed": false
   },
   "outputs": [],
   "source": [
    "def RSelect(A,i, l=None, r=None):\n",
    "    \"\"\"\n",
    "    Input array=A, orderstat=i, A=[a_l,...,a_r] where l,r take values in (0,1,...,len(A)-1)\n",
    "    Swaps are done in place via paritition and choosePivot functions\n",
    "    \"\"\"\n",
    "    if r == None:\n",
    "        r = len(A)-1 # index of last element in A\n",
    "    if l == None:\n",
    "        l = 0 # index of first element in A\n",
    "    \n",
    "    n = r-l+1\n",
    "    if n == 1:\n",
    "        return A[l] \n",
    "        \"\"\"\n",
    "        because we are swapping in place, \n",
    "        the median will end up in ell-th position \n",
    "        when recursions reduce down to base case\n",
    "        \"\"\"\n",
    "    else:\n",
    "        p = choosePivot(A,l,r)\n",
    "        ix = partition(A,l,r) # gives the index of the pivot after partition\n",
    "        # A[l:r] = [a_l,...a_ix,...a_r] \n",
    "        j = ix - l + 1 # the pivot is actually the j-th order statistic of the subarray A[l:r] where j=ix-l+1 \n",
    "        #print 'i:',i,'j:',j, 'ix:',ix, A[l:r+1]\n",
    "        if j == i:\n",
    "            return A[ix]\n",
    "        elif j > i:\n",
    "            return RSelect(A,i,l,ix-1)\n",
    "        else:\n",
    "            return RSelect(A,i-j,ix+1,r)    "
   ]
  },
  {
   "cell_type": "code",
   "execution_count": 213,
   "metadata": {
    "collapsed": true
   },
   "outputs": [],
   "source": [
    "import numpy as np"
   ]
  },
  {
   "cell_type": "code",
   "execution_count": 224,
   "metadata": {
    "collapsed": true
   },
   "outputs": [],
   "source": [
    "A = list(np.random.permutation(10)+1)"
   ]
  },
  {
   "cell_type": "code",
   "execution_count": 225,
   "metadata": {
    "collapsed": false
   },
   "outputs": [
    {
     "data": {
      "text/plain": [
       "[4, 3, 10, 9, 1, 7, 2, 5, 8, 6]"
      ]
     },
     "execution_count": 225,
     "metadata": {},
     "output_type": "execute_result"
    }
   ],
   "source": [
    "A"
   ]
  },
  {
   "cell_type": "code",
   "execution_count": 226,
   "metadata": {
    "collapsed": false
   },
   "outputs": [
    {
     "data": {
      "text/plain": [
       "3"
      ]
     },
     "execution_count": 226,
     "metadata": {},
     "output_type": "execute_result"
    }
   ],
   "source": [
    "RSelect(A,3)"
   ]
  },
  {
   "cell_type": "code",
   "execution_count": 227,
   "metadata": {
    "collapsed": false
   },
   "outputs": [
    {
     "data": {
      "text/plain": [
       "[1, 2, 3, 4, 10, 7, 9, 5, 8, 6]"
      ]
     },
     "execution_count": 227,
     "metadata": {},
     "output_type": "execute_result"
    }
   ],
   "source": [
    "# done in place\n",
    "A"
   ]
  },
  {
   "cell_type": "code",
   "execution_count": 228,
   "metadata": {
    "collapsed": false
   },
   "outputs": [
    {
     "data": {
      "text/plain": [
       "9"
      ]
     },
     "execution_count": 228,
     "metadata": {},
     "output_type": "execute_result"
    }
   ],
   "source": [
    "RSelect(A,9)"
   ]
  },
  {
   "cell_type": "code",
   "execution_count": 229,
   "metadata": {
    "collapsed": false
   },
   "outputs": [
    {
     "data": {
      "text/plain": [
       "[1, 2, 3, 4, 5, 6, 7, 8, 9, 10]"
      ]
     },
     "execution_count": 229,
     "metadata": {},
     "output_type": "execute_result"
    }
   ],
   "source": [
    "A"
   ]
  },
  {
   "cell_type": "code",
   "execution_count": 238,
   "metadata": {
    "collapsed": true
   },
   "outputs": [],
   "source": [
    "A = [123,456,789,101,121,131,141]"
   ]
  },
  {
   "cell_type": "code",
   "execution_count": 239,
   "metadata": {
    "collapsed": false
   },
   "outputs": [
    {
     "data": {
      "text/plain": [
       "121"
      ]
     },
     "execution_count": 239,
     "metadata": {},
     "output_type": "execute_result"
    }
   ],
   "source": [
    "RSelect(A,2)"
   ]
  },
  {
   "cell_type": "code",
   "execution_count": 240,
   "metadata": {
    "collapsed": false
   },
   "outputs": [
    {
     "data": {
      "text/plain": [
       "[101, 121, 123, 131, 789, 456, 141]"
      ]
     },
     "execution_count": 240,
     "metadata": {},
     "output_type": "execute_result"
    }
   ],
   "source": [
    "A"
   ]
  },
  {
   "cell_type": "markdown",
   "metadata": {},
   "source": [
    "Note that RSelect continues to recursively call itself until either the randomly chosen pivot is equal to the j-th order statistic of A[l:r] or the problem reduces down to the base case."
   ]
  },
  {
   "cell_type": "markdown",
   "metadata": {},
   "source": [
    "## DSelect "
   ]
  },
  {
   "cell_type": "markdown",
   "metadata": {
    "collapsed": true
   },
   "source": [
    "The body of the algorithm in the Deterministic version of this select algorithm is identical to that of Rselect, with the only exception being the way in which we choose the Pivot. Recall that in RSelect, we choose the pivot randomly based on a uniform distribution. In contrast, in DSelect we will choose this pivot deterministically. \n",
    "\n",
    "It is obvious, that the best pivot to choose the median as it will give us the most balanced recursive procedure (but this of course is a circular argument). **The big idea of the deterministic ChoosePivot is the \"median of medians\".**"
   ]
  },
  {
   "cell_type": "markdown",
   "metadata": {},
   "source": [
    "The Deterministic ChoosePivot:\n",
    "\n",
    "1. Break A into groups of 5, sort each group (use any sorting method...mergeSort or Quicksort, won't matter as we are only sorting 5 elements!)\n",
    "2. Populate an array C with the n/5 \"middle elements\" of each group\n",
    "3. Use a recursive call to choose our pivot (i.e., recursively find the median of C). So, p=Select(C,n/5,n/10)\n",
    "\n",
    "- *Tim Roughgarden uses the analogy of tournament of teams, whose winning teams from each of the 5 groups represents the middle elements, and the final champion is the middle element of these 1st round winners.*\n",
    "\n",
    "- *After choosing the pivot in this fashion, the DSelect follows the same algorithmic procedure as RSelect*"
   ]
  },
  {
   "cell_type": "markdown",
   "metadata": {},
   "source": [
    "Some notes on DSelect:\n",
    "- This is algorithm does not operate in place. So DSelect is not as fast RSelect\n",
    "- Running time is O(n) (in worst case)"
   ]
  },
  {
   "cell_type": "markdown",
   "metadata": {},
   "source": [
    "Will use merge_sort since it does not affect the array A"
   ]
  },
  {
   "cell_type": "code",
   "execution_count": 152,
   "metadata": {
    "collapsed": true
   },
   "outputs": [],
   "source": [
    "def combine(x,y):\n",
    "    z = []\n",
    "    # having nx and ny allows for combinin\n",
    "    nx = len(x)\n",
    "    ny = len(y) # my merge_sort function will always send y as the \"bigger half\" in case of uneveness\n",
    "    # starting positions for our pointers\n",
    "    i = 0\n",
    "    j = 0\n",
    "    while i < nx and j < ny:\n",
    "        if x[i] < y[j]:\n",
    "            z.append(x[i])\n",
    "            i += 1\n",
    "        else:\n",
    "            z.append(y[j])\n",
    "            j += 1\n",
    "    # append the remaining symbols\n",
    "    if j <= i: # there are elements remaining in y (include = because j can equal to nx but still has one element left)\n",
    "        for el in y[j:]:\n",
    "            z.append(el)\n",
    "    else: # there are elements in remaining in x\n",
    "        for el in x[i:]:\n",
    "            z.append(el)\n",
    "    return z\n",
    "\n",
    "def merge_sort(x):\n",
    "    n = len(x)\n",
    "    half = int(n/2)\n",
    "    if n == 1:\n",
    "        return [x[0]] # returns a list in basic case\n",
    "    else:\n",
    "        foo = merge_sort(x[:half])\n",
    "        bar = merge_sort(x[half:])\n",
    "        return combine(foo,bar)"
   ]
  },
  {
   "cell_type": "code",
   "execution_count": 153,
   "metadata": {
    "collapsed": true
   },
   "outputs": [],
   "source": [
    "from __future__ import division"
   ]
  },
  {
   "cell_type": "code",
   "execution_count": 276,
   "metadata": {
    "collapsed": false
   },
   "outputs": [],
   "source": [
    "def firstrdmedians(A):\n",
    "    n = len(A) \n",
    "    m = int(n/5)\n",
    "    rem = n % 5\n",
    "    C = []\n",
    "    for i in range(m):\n",
    "        C.append(merge_sort(A[i*5:(i+1)*5])[2])\n",
    "    if rem != 0:\n",
    "        if rem % 2 == 0 :\n",
    "            mid = int(rem/2)\n",
    "        else:\n",
    "            mid = int((rem + 1)/2)\n",
    "        C.append(merge_sort(A[-rem:])[mid-1])\n",
    "    return C"
   ]
  },
  {
   "cell_type": "code",
   "execution_count": 282,
   "metadata": {
    "collapsed": false
   },
   "outputs": [
    {
     "data": {
      "text/plain": [
       "[2]"
      ]
     },
     "execution_count": 282,
     "metadata": {},
     "output_type": "execute_result"
    }
   ],
   "source": [
    "firstrdmedians([3,2,1])"
   ]
  },
  {
   "cell_type": "code",
   "execution_count": 396,
   "metadata": {
    "collapsed": false
   },
   "outputs": [],
   "source": [
    "def DSelect(A,i):\n",
    "    assert i>= 1 and i <= len(A)\n",
    "    n = len(A)\n",
    "    if n <= 1: # base cases are any arrays with elements less than 5\n",
    "        return A[0]\n",
    "    else:        \n",
    "        C = firstrdmedians(A)\n",
    "        mid = int(len(C)/2)\n",
    "        if len(C) == 1:\n",
    "            p = C[0]\n",
    "        else:\n",
    "            p = DSelect(C, mid)\n",
    "        # swap pivot postion into first position of A before calling on partition procedure\n",
    "        foo = A.index(p)\n",
    "        A[0],A[foo] = A[foo],A[0]\n",
    "        #print 'A:',A, 'p:',p\n",
    "        ix = partition(A)\n",
    "        #print 'A after partition:', A\n",
    "        # the pivot is the j-th order statistic of A where j=ix+1 (ix is index of pivot)\n",
    "        j = ix + 1\n",
    "        #print 'index of p:',ix, 'pivot is jth:',j\n",
    "        if j == i:\n",
    "            return p\n",
    "        elif j > i:\n",
    "            firstPartA = A[:ix]\n",
    "            return DSelect(firstPartA,i)\n",
    "        else:\n",
    "            secondPartA = A[ix+1:]\n",
    "            return DSelect(secondPartA,i-j) "
   ]
  },
  {
   "cell_type": "code",
   "execution_count": 402,
   "metadata": {
    "collapsed": false
   },
   "outputs": [
    {
     "data": {
      "text/plain": [
       "[9, 7, 1, 2, 11, 8, 12, 4, 6, 3, 10, 5]"
      ]
     },
     "execution_count": 402,
     "metadata": {},
     "output_type": "execute_result"
    }
   ],
   "source": [
    "A=list(np.random.permutation(12)+1)\n",
    "A"
   ]
  },
  {
   "cell_type": "code",
   "execution_count": 403,
   "metadata": {
    "collapsed": false
   },
   "outputs": [
    {
     "data": {
      "text/plain": [
       "6"
      ]
     },
     "execution_count": 403,
     "metadata": {},
     "output_type": "execute_result"
    }
   ],
   "source": [
    "DSelect(A,6)"
   ]
  },
  {
   "cell_type": "code",
   "execution_count": 404,
   "metadata": {
    "collapsed": false
   },
   "outputs": [
    {
     "data": {
      "text/plain": [
       "[3, 1, 2, 4, 5, 8, 12, 7, 6, 11, 10, 9]"
      ]
     },
     "execution_count": 404,
     "metadata": {},
     "output_type": "execute_result"
    }
   ],
   "source": [
    "# A is rearranged a bit due to the partition procedure after finding pivot\n",
    "A"
   ]
  },
  {
   "cell_type": "code",
   "execution_count": 405,
   "metadata": {
    "collapsed": true
   },
   "outputs": [],
   "source": [
    "A = [123,456,789,101,121,131,141]"
   ]
  },
  {
   "cell_type": "code",
   "execution_count": 406,
   "metadata": {
    "collapsed": false
   },
   "outputs": [
    {
     "data": {
      "text/plain": [
       "121"
      ]
     },
     "execution_count": 406,
     "metadata": {},
     "output_type": "execute_result"
    }
   ],
   "source": [
    "DSelect(A,2)"
   ]
  },
  {
   "cell_type": "code",
   "execution_count": 407,
   "metadata": {
    "collapsed": false
   },
   "outputs": [
    {
     "data": {
      "text/plain": [
       "[121, 101, 123, 456, 789, 131, 141]"
      ]
     },
     "execution_count": 407,
     "metadata": {},
     "output_type": "execute_result"
    }
   ],
   "source": [
    "# DSelect does not operate in place!\n",
    "A"
   ]
  },
  {
   "cell_type": "markdown",
   "metadata": {},
   "source": [
    "## RSelect vs. DSelect on selecting a random order statistic of random permutations of lists [1..10^i], for i=0,1,2,...8 "
   ]
  },
  {
   "cell_type": "code",
   "execution_count": 410,
   "metadata": {
    "collapsed": true
   },
   "outputs": [],
   "source": [
    "import copy\n",
    "import time"
   ]
  },
  {
   "cell_type": "code",
   "execution_count": 411,
   "metadata": {
    "collapsed": false
   },
   "outputs": [
    {
     "data": {
      "text/plain": [
       "34.202986001968384"
      ]
     },
     "execution_count": 411,
     "metadata": {},
     "output_type": "execute_result"
    }
   ],
   "source": [
    "# creating a dicts of arrays to be sorted\n",
    "t0=time.time()\n",
    "permutations = {i:list(np.random.permutation(10**i)+1) for i in range(9)}\n",
    "t1=time.time()\n",
    "t1-t0"
   ]
  },
  {
   "cell_type": "code",
   "execution_count": 412,
   "metadata": {
    "collapsed": true
   },
   "outputs": [],
   "source": [
    "permutations_copy1 = {key:list[:] for key,list in permutations.items()}\n",
    "permutations_copy2 = {key:list[:] for key,list in permutations.items()}"
   ]
  },
  {
   "cell_type": "code",
   "execution_count": 422,
   "metadata": {
    "collapsed": false
   },
   "outputs": [
    {
     "data": {
      "text/plain": [
       "7"
      ]
     },
     "execution_count": 422,
     "metadata": {},
     "output_type": "execute_result"
    }
   ],
   "source": [
    "np.random.randint(1,11,size=1)[0]"
   ]
  },
  {
   "cell_type": "code",
   "execution_count": 430,
   "metadata": {
    "collapsed": false
   },
   "outputs": [
    {
     "data": {
      "text/plain": [
       "[1, 5, 20, 410, 3166, 30119, 357572, 2436981, 92389754]"
      ]
     },
     "execution_count": 430,
     "metadata": {},
     "output_type": "execute_result"
    }
   ],
   "source": [
    "# random ith order stats\n",
    "orders = [np.random.randint(10**i,size=1)[0]+1 for i in range(9)]\n",
    "orders"
   ]
  },
  {
   "cell_type": "code",
   "execution_count": 433,
   "metadata": {
    "collapsed": false
   },
   "outputs": [
    {
     "data": {
      "text/plain": [
       "{0: 4.0531158447265625e-06,\n",
       " 1: 0.00014090538024902344,\n",
       " 2: 0.00014710426330566406,\n",
       " 3: 0.0023679733276367188,\n",
       " 4: 0.006084918975830078,\n",
       " 5: 0.06109189987182617,\n",
       " 6: 0.5298070907592773,\n",
       " 7: 6.315201044082642,\n",
       " 8: 97.2131609916687}"
      ]
     },
     "execution_count": 433,
     "metadata": {},
     "output_type": "execute_result"
    }
   ],
   "source": [
    "# testing RSelect \n",
    "times = {}\n",
    "for i in range(9):\n",
    "    t0=time.time()\n",
    "    RSelect(permutations_copy1[i],orders[i])\n",
    "    t1=time.time()\n",
    "    times[i] = t1-t0\n",
    "times"
   ]
  },
  {
   "cell_type": "code",
   "execution_count": 434,
   "metadata": {
    "collapsed": false
   },
   "outputs": [
    {
     "data": {
      "text/plain": [
       "{0: 4.57763671875e-05,\n",
       " 1: 0.00025582313537597656,\n",
       " 2: 0.0017750263214111328,\n",
       " 3: 0.0159299373626709,\n",
       " 4: 0.11660289764404297,\n",
       " 5: 0.9828341007232666,\n",
       " 6: 9.664698839187622,\n",
       " 7: 97.22481513023376,\n",
       " 8: 1061.6915938854218}"
      ]
     },
     "execution_count": 434,
     "metadata": {},
     "output_type": "execute_result"
    }
   ],
   "source": [
    "# testing DSelect \n",
    "times = {}\n",
    "for i in range(9):\n",
    "    t0=time.time()\n",
    "    DSelect(permutations_copy2[i],orders[i])\n",
    "    t1=time.time()\n",
    "    times[i] = t1-t0\n",
    "times"
   ]
  },
  {
   "cell_type": "markdown",
   "metadata": {},
   "source": [
    "As Tim Roughgarden claimed, DSelect is not as fast as RSelect because it does not operate in place."
   ]
  }
 ],
 "metadata": {
  "kernelspec": {
   "display_name": "Python 2",
   "language": "python",
   "name": "python2"
  },
  "language_info": {
   "codemirror_mode": {
    "name": "ipython",
    "version": 2
   },
   "file_extension": ".py",
   "mimetype": "text/x-python",
   "name": "python",
   "nbconvert_exporter": "python",
   "pygments_lexer": "ipython2",
   "version": "2.7.11"
  }
 },
 "nbformat": 4,
 "nbformat_minor": 0
}
